{
 "cells": [
  {
   "attachments": {},
   "cell_type": "markdown",
   "metadata": {},
   "source": [
    "# Hyperion Capstone 7\n",
    "\n",
    "This project will focus on comparing the [K-mean](https://en.wikipedia.org/wiki/K-means_clustering) and the [KNN](https://en.wikipedia.org/wiki/K-nearest_neighbors_algorithm) methods of clustering data after applying Principle Componant Analysis. The dataset used in this notebook will be [US arrest statistics](https://www.kaggle.com/datasets/kurohana/usarrets). This dataset is described as; Arrests per 100,000 residents for assult, murder, and rape in each of the 50 US states in 1973.\n",
    "\n",
    "The project strucutre:\n",
    "- A small EDA on the dataset\n",
    "- Applying PCA and tuning the number of principle componants\n",
    "- Training a K-mean model\n",
    "- Training a KNN model\n",
    "- Comparing both models"
   ]
  },
  {
   "cell_type": "code",
   "execution_count": 29,
   "metadata": {},
   "outputs": [],
   "source": [
    "#Imports\n",
    "import numpy as np\n",
    "import pandas as pd\n",
    "import matplotlib.pyplot as plt\n",
    "import seaborn as sns\n",
    "\n",
    "from sklearn.cluster import KMeans\n",
    "from sklearn.neighbors import KNeighborsClassifier\n",
    "from sklearn.decomposition import PCA"
   ]
  },
  {
   "attachments": {},
   "cell_type": "markdown",
   "metadata": {},
   "source": [
    "## Loading and exploring data\n",
    "\n",
    "In this section I will be looking at the data set and looking at the different attributes and how they link together. I will also be dealing with any empty values."
   ]
  },
  {
   "cell_type": "code",
   "execution_count": 30,
   "metadata": {},
   "outputs": [
    {
     "name": "stdout",
     "output_type": "stream",
     "text": [
      "<class 'pandas.core.frame.DataFrame'>\n",
      "RangeIndex: 50 entries, 0 to 49\n",
      "Data columns (total 5 columns):\n",
      " #   Column    Non-Null Count  Dtype  \n",
      "---  ------    --------------  -----  \n",
      " 0   City      50 non-null     object \n",
      " 1   Murder    50 non-null     float64\n",
      " 2   Assault   50 non-null     int64  \n",
      " 3   UrbanPop  50 non-null     int64  \n",
      " 4   Rape      50 non-null     float64\n",
      "dtypes: float64(2), int64(2), object(1)\n",
      "memory usage: 2.1+ KB\n",
      "\n",
      "\n",
      "Top of the dataset:\n",
      "          City  Murder  Assault  UrbanPop  Rape\n",
      "0     Alabama    13.2      236        58  21.2\n",
      "1      Alaska    10.0      263        48  44.5\n",
      "2     Arizona     8.1      294        80  31.0\n",
      "3    Arkansas     8.8      190        50  19.5\n",
      "4  California     9.0      276        91  40.6\n"
     ]
    }
   ],
   "source": [
    "#Load data\n",
    "df = pd.read_csv(\"UsArrests.csv\")\n",
    "\n",
    "#Checking for empty cells\n",
    "df.info()\n",
    "\n",
    "#Gets the first 5 rows\n",
    "print(\"\\n\\nTop of the dataset:\\n\",df.head())"
   ]
  },
  {
   "attachments": {},
   "cell_type": "markdown",
   "metadata": {},
   "source": [
    "This initial opening of the dataset tells us that there are no empty cells that need to be dealt with. It also seems that the attribute names \"City\" is named wrong and should be \"State\" instead. The next step will be analysing the distribution of each statistic throughout the dataset."
   ]
  },
  {
   "cell_type": "code",
   "execution_count": 31,
   "metadata": {},
   "outputs": [
    {
     "data": {
      "image/png": "[encoded data removed]",
      "text/plain": [
       "<Figure size 2000x500 with 4 Axes>"
      ]
     },
     "metadata": {},
     "output_type": "display_data"
    }
   ],
   "source": [
    "#Changes name of the \"City\" column\n",
    "df.rename(columns={\"City\":\"State\"},inplace=True)\n",
    "\n",
    "#Selects subset only containing numeric data\n",
    "df_num = df.drop(\"State\",axis=1)\n",
    "df_states = df.State\n",
    "\n",
    "#Generates subplots\n",
    "fig,axs = plt.subplots(1,4,figsize=(20,5))\n",
    "\n",
    "#Plots a histogram of each numeric column\n",
    "for col,ax in zip(df_num,fig.axes):\n",
    "    df[col].plot.hist(ax=ax)\n",
    "    ax.set_xlabel(col)"
   ]
  },
  {
   "attachments": {},
   "cell_type": "markdown",
   "metadata": {},
   "source": [
    "**Murder per Capita**\n",
    "- The most common rate of murder is around 2.5 and 7.5.\n",
    "- Rates above 11 are must rarer.\n",
    "\n",
    "**Assult per Capita**\n",
    "- The rates have a similar shape to the murder rates, but the absolute values are much higher.\n",
    "- Peak at 125, though there is another peak at 275.\n",
    "\n",
    "**Urban Population**\n",
    "- Most states have an urban population of around 65%.\n",
    "- There seems to be a much more even spread of populations between 45% and 95% compared to the other statistic types.\n",
    "\n",
    "**Rape per Capita**\n",
    "- More rape occures in general than murders\n",
    "- More assults then rapes\n",
    "- There a rapid dropoff for rates above 25"
   ]
  }
 ],
 "metadata": {
  "kernelspec": {
   "display_name": "hyperion",
   "language": "python",
   "name": "python3"
  },
  "language_info": {
   "codemirror_mode": {
    "name": "ipython",
    "version": 3
   },
   "file_extension": ".py",
   "mimetype": "text/x-python",
   "name": "python",
   "nbconvert_exporter": "python",
   "pygments_lexer": "ipython3",
   "version": "3.10.8"
  },
  "orig_nbformat": 4,
  "vscode": {
   "interpreter": {
    "hash": "80520e2879c4107d7514eba056456e08443e7bb9b5151b2a640138d1f91fc5a3"
   }
  }
 },
 "nbformat": 4,
 "nbformat_minor": 2
}
